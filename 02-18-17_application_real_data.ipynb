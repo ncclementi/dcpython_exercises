{
 "cells": [
  {
   "cell_type": "markdown",
   "metadata": {},
   "source": [
    "## DC Python Lab - Class 02/18/2017 \n",
    "\n",
    "This notebook contains the application with real data exercise.\n",
    "\n",
    "Looking at a recent Atlantic Magazine piece: [My president was black](https://www.theatlantic.com/magazine/archive/2017/01/my-president-was-black/508793/)"
   ]
  },
  {
   "cell_type": "markdown",
   "metadata": {},
   "source": [
    "## Exercise 1:\n",
    "\n",
    "From the following header extract:\n",
    "1. Extract the title\n",
    "2. Extract the introduction\n",
    "3. Extract the author\n",
    "4. Extract the photographer\n",
    "\n",
    "*Hint*: Google something called repr and check what `print(repr(header))` tells you.\n"
   ]
  },
  {
   "cell_type": "code",
   "execution_count": 1,
   "metadata": {
    "collapsed": true
   },
   "outputs": [],
   "source": [
    "header = \"\"\"\n",
    "    My President Was Black\n",
    "    A history of the first African American White House—and of what came next\n",
    "\n",
    "    By Ta-Nehisi Coates\n",
    "    Photograph by Ian Allen\n",
    "    \"\"\""
   ]
  },
  {
   "cell_type": "markdown",
   "metadata": {},
   "source": [
    "## Let's use the hint\n",
    "\n",
    "First let's check what `repr`, how? Try typing `?repr`"
   ]
  },
  {
   "cell_type": "code",
   "execution_count": 2,
   "metadata": {
    "collapsed": true
   },
   "outputs": [],
   "source": [
    "?repr"
   ]
  },
  {
   "cell_type": "code",
   "execution_count": 3,
   "metadata": {
    "collapsed": false
   },
   "outputs": [
    {
     "name": "stdout",
     "output_type": "stream",
     "text": [
      "'\\n    My President Was Black\\n    A history of the first African American White House—and of what came next\\n\\n    By Ta-Nehisi Coates\\n    Photograph by Ian Allen\\n    '\n"
     ]
    }
   ],
   "source": [
    "print(repr(header))"
   ]
  },
  {
   "cell_type": "markdown",
   "metadata": {},
   "source": [
    "## Splitting the header\n",
    "\n",
    "Now we can see all the elements in our header, we can notice that each part that we need to extract is in between two `\\n`, so let's try to split our header using as reference those `\\n`. You can check the `split()` method documentation [here](https://www.tutorialspoint.com/python/string_split.htm)."
   ]
  },
  {
   "cell_type": "code",
   "execution_count": 4,
   "metadata": {
    "collapsed": true
   },
   "outputs": [],
   "source": [
    "header_list = header.split('\\n')"
   ]
  },
  {
   "cell_type": "code",
   "execution_count": 5,
   "metadata": {
    "collapsed": false
   },
   "outputs": [
    {
     "name": "stdout",
     "output_type": "stream",
     "text": [
      "['', '    My President Was Black', '    A history of the first African American White House—and of what came next', '', '    By Ta-Nehisi Coates', '    Photograph by Ian Allen', '    ']\n"
     ]
    }
   ],
   "source": [
    "print(header_list)"
   ]
  },
  {
   "cell_type": "markdown",
   "metadata": {},
   "source": [
    "## Let's clean up a little this data.\n",
    "\n",
    "1. Remove extra white spaces.\n",
    "2. Remove the elements of the list that are empty. \n",
    "\n",
    "We use the method `strip()` check the documentation [here](https://www.tutorialspoint.com/python/string_strip.htm)"
   ]
  },
  {
   "cell_type": "code",
   "execution_count": 6,
   "metadata": {
    "collapsed": true
   },
   "outputs": [],
   "source": [
    "#Removing extra white spaces in each element of our list\n",
    "for i in range(len(header_list)):\n",
    "    header_list[i] = header_list[i].strip()    "
   ]
  },
  {
   "cell_type": "code",
   "execution_count": 7,
   "metadata": {
    "collapsed": false
   },
   "outputs": [
    {
     "name": "stdout",
     "output_type": "stream",
     "text": [
      "['', 'My President Was Black', 'A history of the first African American White House—and of what came next', '', 'By Ta-Nehisi Coates', 'Photograph by Ian Allen', '']\n"
     ]
    }
   ],
   "source": [
    "print(header_list)"
   ]
  },
  {
   "cell_type": "code",
   "execution_count": 8,
   "metadata": {
    "collapsed": true
   },
   "outputs": [],
   "source": [
    "for element in header_list:\n",
    "    if element == '':\n",
    "        header_list.remove(element)    "
   ]
  },
  {
   "cell_type": "code",
   "execution_count": 9,
   "metadata": {
    "collapsed": false
   },
   "outputs": [
    {
     "name": "stdout",
     "output_type": "stream",
     "text": [
      "['My President Was Black', 'A history of the first African American White House—and of what came next', 'By Ta-Nehisi Coates', 'Photograph by Ian Allen']\n"
     ]
    }
   ],
   "source": [
    "print(header_list)"
   ]
  },
  {
   "cell_type": "markdown",
   "metadata": {},
   "source": [
    "Now our data is clean and neat, let's get the things we were assigned to. Refreshing the exercise stament, we need:\n",
    "1. Extract the title\n",
    "2. Extract the introduction\n",
    "3. Extract the author\n",
    "4. Extract the photographer"
   ]
  },
  {
   "cell_type": "markdown",
   "metadata": {},
   "source": [
    "## Getting the title and introduction (easy ones)"
   ]
  },
  {
   "cell_type": "code",
   "execution_count": 10,
   "metadata": {
    "collapsed": true
   },
   "outputs": [],
   "source": [
    "title = header_list[0]\n",
    "intro = header_list[1]"
   ]
  },
  {
   "cell_type": "markdown",
   "metadata": {},
   "source": [
    "Let's print them!"
   ]
  },
  {
   "cell_type": "code",
   "execution_count": 11,
   "metadata": {
    "collapsed": false
   },
   "outputs": [
    {
     "name": "stdout",
     "output_type": "stream",
     "text": [
      "The title is:  My President Was Black\n",
      "The intro is:  A history of the first African American White House—and of what came next\n"
     ]
    }
   ],
   "source": [
    "print('The title is: ', title)\n",
    "print('The intro is: ', intro)"
   ]
  },
  {
   "cell_type": "markdown",
   "metadata": {},
   "source": [
    "Another way of formatting print statements is by doing the following. Remeber that \\n means \"go to the next line\"."
   ]
  },
  {
   "cell_type": "code",
   "execution_count": 12,
   "metadata": {
    "collapsed": false
   },
   "outputs": [
    {
     "name": "stdout",
     "output_type": "stream",
     "text": [
      "The title is: My President Was Black. \n",
      "The introduction is: A history of the first African American White House—and of what came next.\n"
     ]
    }
   ],
   "source": [
    "print('The title is: {}. \\nThe introduction is: {}.'.format(title, intro))"
   ]
  },
  {
   "cell_type": "markdown",
   "metadata": {},
   "source": [
    "## Getting the author and the photographer\n",
    "\n",
    "Notice that for the author we need to strip from the 3rd element in th header_list the string 'By '. In the case of the photographer we need to strip the string 'Photograph by ' from the 4th element. "
   ]
  },
  {
   "cell_type": "code",
   "execution_count": 13,
   "metadata": {
    "collapsed": true
   },
   "outputs": [],
   "source": [
    "author = header_list[2].strip('By ')\n",
    "photographer = header_list[3].strip('Photograph by ')"
   ]
  },
  {
   "cell_type": "code",
   "execution_count": 14,
   "metadata": {
    "collapsed": false
   },
   "outputs": [
    {
     "name": "stdout",
     "output_type": "stream",
     "text": [
      "The author is: Ta-Nehisi Coates. \n",
      "The photographer is: Ian Allen.\n"
     ]
    }
   ],
   "source": [
    "print('The author is: {}. \\nThe photographer is: {}.'.format(author, photographer))"
   ]
  },
  {
   "cell_type": "markdown",
   "metadata": {},
   "source": [
    "## Let's print them all together.\n",
    "\n",
    "If you don't feel comfortable with the format priting you can always do:"
   ]
  },
  {
   "cell_type": "code",
   "execution_count": 15,
   "metadata": {
    "collapsed": false
   },
   "outputs": [
    {
     "name": "stdout",
     "output_type": "stream",
     "text": [
      "Title       :  My President Was Black\n",
      "Introduction:  A history of the first African American White House—and of what came next\n",
      "Author      :  Ta-Nehisi Coates\n",
      "Photographer:  Ian Allen\n"
     ]
    }
   ],
   "source": [
    "print('Title       : ', title)\n",
    "print('Introduction: ', intro)\n",
    "print('Author      : ', author)\n",
    "print('Photographer: ', photographer)"
   ]
  }
 ],
 "metadata": {
  "anaconda-cloud": {},
  "kernelspec": {
   "display_name": "Python [default]",
   "language": "python",
   "name": "python3"
  },
  "language_info": {
   "codemirror_mode": {
    "name": "ipython",
    "version": 3
   },
   "file_extension": ".py",
   "mimetype": "text/x-python",
   "name": "python",
   "nbconvert_exporter": "python",
   "pygments_lexer": "ipython3",
   "version": "3.5.2"
  }
 },
 "nbformat": 4,
 "nbformat_minor": 2
}
