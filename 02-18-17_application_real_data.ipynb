{
 "cells": [
  {
   "cell_type": "markdown",
   "metadata": {},
   "source": [
    "## DC Python Lab - Class 02/18/2017 \n",
    "\n",
    "This notebook contains the application with real data exercise.\n",
    "\n",
    "Looking at a recent Atlantic Magazine piece: [My president was black](https://www.theatlantic.com/magazine/archive/2017/01/my-president-was-black/508793/)"
   ]
  },
  {
   "cell_type": "markdown",
   "metadata": {},
   "source": [
    "## Exercise 1:\n",
    "\n",
    "From the following header extract:\n",
    "1. Extract the title\n",
    "2. Extract the introduction\n",
    "3. Extract the author\n",
    "4. Extract the photographer\n",
    "\n",
    "*Hint*: Google something called repr and check what `print(repr(header))` tells you.\n"
   ]
  },
  {
   "cell_type": "code",
   "execution_count": 1,
   "metadata": {
    "collapsed": true
   },
   "outputs": [],
   "source": [
    "header = \"\"\"\n",
    "    My President Was Black\n",
    "    A history of the first African American White House—and of what came next\n",
    "\n",
    "    By Ta-Nehisi Coates\n",
    "    Photograph by Ian Allen\n",
    "    \"\"\""
   ]
  },
  {
   "cell_type": "markdown",
   "metadata": {},
   "source": [
    "## Let's use the hint\n",
    "\n",
    "First let's check what `repr`, how? Try typing `?repr`"
   ]
  },
  {
   "cell_type": "code",
   "execution_count": 2,
   "metadata": {
    "collapsed": true
   },
   "outputs": [],
   "source": [
    "?repr"
   ]
  },
  {
   "cell_type": "code",
   "execution_count": 3,
   "metadata": {
    "collapsed": false
   },
   "outputs": [
    {
     "name": "stdout",
     "output_type": "stream",
     "text": [
      "'\\n    My President Was Black\\n    A history of the first African American White House—and of what came next\\n\\n    By Ta-Nehisi Coates\\n    Photograph by Ian Allen\\n    '\n"
     ]
    }
   ],
   "source": [
    "print(repr(header))"
   ]
  },
  {
   "cell_type": "markdown",
   "metadata": {},
   "source": [
    "## Splitting the header\n",
    "\n",
    "Now we can see all the elements in our header, we can notice that each part that we need to extract is in between two `\\n`, so let's try to split our header using as reference those `\\n`. You can check the `split()` method documentation [here](https://www.tutorialspoint.com/python/string_split.htm)."
   ]
  },
  {
   "cell_type": "code",
   "execution_count": 4,
   "metadata": {
    "collapsed": true
   },
   "outputs": [],
   "source": [
    "header_list = header.split('\\n')"
   ]
  },
  {
   "cell_type": "code",
   "execution_count": 5,
   "metadata": {
    "collapsed": false
   },
   "outputs": [
    {
     "name": "stdout",
     "output_type": "stream",
     "text": [
      "['', '    My President Was Black', '    A history of the first African American White House—and of what came next', '', '    By Ta-Nehisi Coates', '    Photograph by Ian Allen', '    ']\n"
     ]
    }
   ],
   "source": [
    "print(header_list)"
   ]
  },
  {
   "cell_type": "markdown",
   "metadata": {},
   "source": [
    "## Let's clean up a little this data.\n",
    "\n",
    "1. Remove extra white spaces.\n",
    "2. Remove the elements of the list that are empty. \n",
    "\n",
    "We use the method `strip()` check the documentation [here](https://www.tutorialspoint.com/python/string_strip.htm)"
   ]
  },
  {
   "cell_type": "code",
   "execution_count": 6,
   "metadata": {
    "collapsed": true
   },
   "outputs": [],
   "source": [
    "#Removing extra white spaces in each element of our list\n",
    "for i in range(len(header_list)):\n",
    "    header_list[i] = header_list[i].strip()    "
   ]
  },
  {
   "cell_type": "code",
   "execution_count": 7,
   "metadata": {
    "collapsed": false
   },
   "outputs": [
    {
     "name": "stdout",
     "output_type": "stream",
     "text": [
      "['', 'My President Was Black', 'A history of the first African American White House—and of what came next', '', 'By Ta-Nehisi Coates', 'Photograph by Ian Allen', '']\n"
     ]
    }
   ],
   "source": [
    "print(header_list)"
   ]
  },
  {
   "cell_type": "code",
   "execution_count": 8,
   "metadata": {
    "collapsed": true
   },
   "outputs": [],
   "source": [
    "for element in header_list:\n",
    "    if element == '':\n",
    "        header_list.remove(element)    "
   ]
  },
  {
   "cell_type": "code",
   "execution_count": 9,
   "metadata": {
    "collapsed": false
   },
   "outputs": [
    {
     "name": "stdout",
     "output_type": "stream",
     "text": [
      "['My President Was Black', 'A history of the first African American White House—and of what came next', 'By Ta-Nehisi Coates', 'Photograph by Ian Allen']\n"
     ]
    }
   ],
   "source": [
    "print(header_list)"
   ]
  },
  {
   "cell_type": "markdown",
   "metadata": {},
   "source": [
    "Now our data is clean and neat, let's get the things we were assigned to. Refreshing the exercise stament, we need:\n",
    "1. Extract the title\n",
    "2. Extract the introduction\n",
    "3. Extract the author\n",
    "4. Extract the photographer"
   ]
  },
  {
   "cell_type": "markdown",
   "metadata": {},
   "source": [
    "## Getting the title and introduction (easy ones)"
   ]
  },
  {
   "cell_type": "code",
   "execution_count": 10,
   "metadata": {
    "collapsed": true
   },
   "outputs": [],
   "source": [
    "title = header_list[0]\n",
    "intro = header_list[1]"
   ]
  },
  {
   "cell_type": "markdown",
   "metadata": {},
   "source": [
    "Let's print them!"
   ]
  },
  {
   "cell_type": "code",
   "execution_count": 11,
   "metadata": {
    "collapsed": false
   },
   "outputs": [
    {
     "name": "stdout",
     "output_type": "stream",
     "text": [
      "The title is:  My President Was Black\n",
      "The intro is:  A history of the first African American White House—and of what came next\n"
     ]
    }
   ],
   "source": [
    "print('The title is: ', title)\n",
    "print('The intro is: ', intro)"
   ]
  },
  {
   "cell_type": "markdown",
   "metadata": {},
   "source": [
    "Another way of formatting print statements is by doing the following. Remeber that \\n means \"go to the next line\"."
   ]
  },
  {
   "cell_type": "code",
   "execution_count": 12,
   "metadata": {
    "collapsed": false
   },
   "outputs": [
    {
     "name": "stdout",
     "output_type": "stream",
     "text": [
      "The title is: My President Was Black. \n",
      "The introduction is: A history of the first African American White House—and of what came next.\n"
     ]
    }
   ],
   "source": [
    "print('The title is: {}. \\nThe introduction is: {}.'.format(title, intro))"
   ]
  },
  {
   "cell_type": "markdown",
   "metadata": {},
   "source": [
    "## Getting the author and the photographer\n",
    "\n",
    "Notice that for the author we need to strip from the 3rd element in th header_list the string 'By '. In the case of the photographer we need to strip the string 'Photograph by ' from the 4th element. "
   ]
  },
  {
   "cell_type": "code",
   "execution_count": 13,
   "metadata": {
    "collapsed": true
   },
   "outputs": [],
   "source": [
    "author = header_list[2].strip('By ')\n",
    "photographer = header_list[3].strip('Photograph by ')"
   ]
  },
  {
   "cell_type": "code",
   "execution_count": 14,
   "metadata": {
    "collapsed": false
   },
   "outputs": [
    {
     "name": "stdout",
     "output_type": "stream",
     "text": [
      "The author is: Ta-Nehisi Coates. \n",
      "The photographer is: Ian Allen.\n"
     ]
    }
   ],
   "source": [
    "print('The author is: {}. \\nThe photographer is: {}.'.format(author, photographer))"
   ]
  },
  {
   "cell_type": "markdown",
   "metadata": {},
   "source": [
    "## Let's print them all together.\n",
    "\n",
    "If you don't feel comfortable with the format priting you can always do:"
   ]
  },
  {
   "cell_type": "code",
   "execution_count": 15,
   "metadata": {
    "collapsed": false
   },
   "outputs": [
    {
     "name": "stdout",
     "output_type": "stream",
     "text": [
      "Title       :  My President Was Black\n",
      "Introduction:  A history of the first African American White House—and of what came next\n",
      "Author      :  Ta-Nehisi Coates\n",
      "Photographer:  Ian Allen\n"
     ]
    }
   ],
   "source": [
    "print('Title       : ', title)\n",
    "print('Introduction: ', intro)\n",
    "print('Author      : ', author)\n",
    "print('Photographer: ', photographer)"
   ]
  },
  {
   "cell_type": "markdown",
   "metadata": {},
   "source": [
    "## Exercise 2:\n",
    "\n",
    "Using the first paragraph:\n",
    "1. How many words are in the first paragraph?\n",
    "2. How many sentences are in the first paragraph?\n",
    "3. How many times is the word 'Obama' is in the first paragraph?\n",
    "4. If you remove all of the punctuation and lower case all text, how many words?\n"
   ]
  },
  {
   "cell_type": "markdown",
   "metadata": {},
   "source": [
    " **Note**: Here I break the paragraph so it's not a long line of code. If we look th output of `repr(first_paragraph)` you will notice more `\\n`. Don't worry, we will strip the out anyways. "
   ]
  },
  {
   "cell_type": "code",
   "execution_count": 68,
   "metadata": {
    "collapsed": true
   },
   "outputs": [],
   "source": [
    "first_paragraph = \"\"\"\n",
    "In the waning days of President Barack Obama’s administration, he and his wife, Michelle, hosted a farewell party,\n",
    "the full import of which no one could then grasp. It was late October, Friday the 21st, and the president had spent\n",
    "many of the previous weeks, as he would spend the two subsequent weeks, campaigning for the Democratic presidential\n",
    "nominee, Hillary Clinton. Things were looking up. Polls in the crucial states of Virginia and Pennsylvania showed \n",
    "Clinton with solid advantages. The formidable GOP strongholds of Georgia and Texas were said to be under threat. \n",
    "The moment seemed to buoy Obama. He had been light on his feet in these last few weeks, cracking jokes at the\n",
    "expense of Republican opponents and laughing off hecklers. At a rally in Orlando on October 28, he greeted a\n",
    "student who would be introducing him by dancing toward her and then noting that the song playing over the\n",
    "loudspeakers—the Gap Band’s “Outstanding”—was older than she was. “This is classic!” he said. Then he flashed the\n",
    "smile that had launched America’s first black presidency, and started dancing again. Three months still remained\n",
    "before Inauguration Day, but staffers had already begun to count down the days. They did this with a mix of pride\n",
    "and longing—like college seniors in early May. They had no sense of the world they were graduating into. None of\n",
    "us did.\n",
    "\"\"\""
   ]
  },
  {
   "cell_type": "code",
   "execution_count": 69,
   "metadata": {
    "collapsed": false
   },
   "outputs": [
    {
     "data": {
      "text/plain": [
       "\"'\\\\nIn the waning days of President Barack Obama’s administration, he and his wife, Michelle, hosted a farewell party,\\\\nthe full import of which no one could then grasp. It was late October, Friday the 21st, and the president had spent\\\\nmany of the previous weeks, as he would spend the two subsequent weeks, campaigning for the Democratic presidential\\\\nnominee, Hillary Clinton. Things were looking up. Polls in the crucial states of Virginia and Pennsylvania showed \\\\nClinton with solid advantages. The formidable GOP strongholds of Georgia and Texas were said to be under threat. \\\\nThe moment seemed to buoy Obama. He had been light on his feet in these last few weeks, cracking jokes at the\\\\nexpense of Republican opponents and laughing off hecklers. At a rally in Orlando on October 28, he greeted a\\\\nstudent who would be introducing him by dancing toward her and then noting that the song playing over the\\\\nloudspeakers—the Gap Band’s “Outstanding”—was older than she was. “This is classic!” he said. Then he flashed the\\\\nsmile that had launched America’s first black presidency, and started dancing again. Three months still remained\\\\nbefore Inauguration Day, but staffers had already begun to count down the days. They did this with a mix of pride\\\\nand longing—like college seniors in early May. They had no sense of the world they were graduating into. None of\\\\nus did.\\\\n'\""
      ]
     },
     "execution_count": 69,
     "metadata": {},
     "output_type": "execute_result"
    }
   ],
   "source": [
    "repr(first_paragraph)"
   ]
  },
  {
   "cell_type": "markdown",
   "metadata": {},
   "source": [
    "## How many words are in the first paragraph?\n",
    "\n",
    "To answer answer this question let's first split our paragraph and save the result in a list. We will have plenty of elements that are not words but we will remove them from our list if we need it. "
   ]
  },
  {
   "cell_type": "code",
   "execution_count": 70,
   "metadata": {
    "collapsed": false
   },
   "outputs": [],
   "source": [
    "split_paragraph = first_paragraph.split()"
   ]
  },
  {
   "cell_type": "markdown",
   "metadata": {},
   "source": [
    "Let's take a look at the split paragraph."
   ]
  },
  {
   "cell_type": "code",
   "execution_count": 71,
   "metadata": {
    "collapsed": false
   },
   "outputs": [
    {
     "name": "stdout",
     "output_type": "stream",
     "text": [
      "['In', 'the', 'waning', 'days', 'of', 'President', 'Barack', 'Obama’s', 'administration,', 'he', 'and', 'his', 'wife,', 'Michelle,', 'hosted', 'a', 'farewell', 'party,', 'the', 'full', 'import', 'of', 'which', 'no', 'one', 'could', 'then', 'grasp.', 'It', 'was', 'late', 'October,', 'Friday', 'the', '21st,', 'and', 'the', 'president', 'had', 'spent', 'many', 'of', 'the', 'previous', 'weeks,', 'as', 'he', 'would', 'spend', 'the', 'two', 'subsequent', 'weeks,', 'campaigning', 'for', 'the', 'Democratic', 'presidential', 'nominee,', 'Hillary', 'Clinton.', 'Things', 'were', 'looking', 'up.', 'Polls', 'in', 'the', 'crucial', 'states', 'of', 'Virginia', 'and', 'Pennsylvania', 'showed', 'Clinton', 'with', 'solid', 'advantages.', 'The', 'formidable', 'GOP', 'strongholds', 'of', 'Georgia', 'and', 'Texas', 'were', 'said', 'to', 'be', 'under', 'threat.', 'The', 'moment', 'seemed', 'to', 'buoy', 'Obama.', 'He', 'had', 'been', 'light', 'on', 'his', 'feet', 'in', 'these', 'last', 'few', 'weeks,', 'cracking', 'jokes', 'at', 'the', 'expense', 'of', 'Republican', 'opponents', 'and', 'laughing', 'off', 'hecklers.', 'At', 'a', 'rally', 'in', 'Orlando', 'on', 'October', '28,', 'he', 'greeted', 'a', 'student', 'who', 'would', 'be', 'introducing', 'him', 'by', 'dancing', 'toward', 'her', 'and', 'then', 'noting', 'that', 'the', 'song', 'playing', 'over', 'the', 'loudspeakers—the', 'Gap', 'Band’s', '“Outstanding”—was', 'older', 'than', 'she', 'was.', '“This', 'is', 'classic!”', 'he', 'said.', 'Then', 'he', 'flashed', 'the', 'smile', 'that', 'had', 'launched', 'America’s', 'first', 'black', 'presidency,', 'and', 'started', 'dancing', 'again.', 'Three', 'months', 'still', 'remained', 'before', 'Inauguration', 'Day,', 'but', 'staffers', 'had', 'already', 'begun', 'to', 'count', 'down', 'the', 'days.', 'They', 'did', 'this', 'with', 'a', 'mix', 'of', 'pride', 'and', 'longing—like', 'college', 'seniors', 'in', 'early', 'May.', 'They', 'had', 'no', 'sense', 'of', 'the', 'world', 'they', 'were', 'graduating', 'into.', 'None', 'of', 'us', 'did.']\n"
     ]
    }
   ],
   "source": [
    "print(split_paragraph)"
   ]
  },
  {
   "cell_type": "markdown",
   "metadata": {},
   "source": [
    "As you can notice, the punctuation doesn't the word count because the symbols are attached to the previous word. However, the em dash '—' symbol links two words and that will affect the count, so let's replace them with a space so when we split by spaces it will do what we want.\n",
    "If you don't have the em dash symbol in your keyword you can generate it by doing `Ctrl+Shift+u+2014`."
   ]
  },
  {
   "cell_type": "code",
   "execution_count": 72,
   "metadata": {
    "collapsed": false
   },
   "outputs": [],
   "source": [
    "revised_paragraph = first_paragraph "
   ]
  },
  {
   "cell_type": "code",
   "execution_count": 73,
   "metadata": {
    "collapsed": false
   },
   "outputs": [],
   "source": [
    "for element in revised_paragraph:\n",
    "    if element == '—':\n",
    "        revised_paragraph = revised_paragraph.replace(element, ' ')"
   ]
  },
  {
   "cell_type": "code",
   "execution_count": 74,
   "metadata": {
    "collapsed": false
   },
   "outputs": [
    {
     "name": "stdout",
     "output_type": "stream",
     "text": [
      "\n",
      "In the waning days of President Barack Obama’s administration, he and his wife, Michelle, hosted a farewell party,\n",
      "the full import of which no one could then grasp. It was late October, Friday the 21st, and the president had spent\n",
      "many of the previous weeks, as he would spend the two subsequent weeks, campaigning for the Democratic presidential\n",
      "nominee, Hillary Clinton. Things were looking up. Polls in the crucial states of Virginia and Pennsylvania showed \n",
      "Clinton with solid advantages. The formidable GOP strongholds of Georgia and Texas were said to be under threat. \n",
      "The moment seemed to buoy Obama. He had been light on his feet in these last few weeks, cracking jokes at the\n",
      "expense of Republican opponents and laughing off hecklers. At a rally in Orlando on October 28, he greeted a\n",
      "student who would be introducing him by dancing toward her and then noting that the song playing over the\n",
      "loudspeakers the Gap Band’s “Outstanding” was older than she was. “This is classic!” he said. Then he flashed the\n",
      "smile that had launched America’s first black presidency, and started dancing again. Three months still remained\n",
      "before Inauguration Day, but staffers had already begun to count down the days. They did this with a mix of pride\n",
      "and longing like college seniors in early May. They had no sense of the world they were graduating into. None of\n",
      "us did.\n",
      "\n"
     ]
    }
   ],
   "source": [
    "print(revised_paragraph)"
   ]
  },
  {
   "cell_type": "markdown",
   "metadata": {},
   "source": [
    "Now our revised_paragraph is the same than the first paragraph but without the \"em dashes\" . Let's split it and then count the words."
   ]
  },
  {
   "cell_type": "code",
   "execution_count": 75,
   "metadata": {
    "collapsed": false
   },
   "outputs": [],
   "source": [
    "split_paragraph = revised_paragraph.split()"
   ]
  },
  {
   "cell_type": "markdown",
   "metadata": {},
   "source": [
    "To count the words we just need to know the length of our list. To do that we use `len()`"
   ]
  },
  {
   "cell_type": "code",
   "execution_count": 76,
   "metadata": {
    "collapsed": false
   },
   "outputs": [],
   "source": [
    "words = len(split_paragraph)"
   ]
  },
  {
   "cell_type": "code",
   "execution_count": 77,
   "metadata": {
    "collapsed": false
   },
   "outputs": [
    {
     "name": "stdout",
     "output_type": "stream",
     "text": [
      "The amount of words in first_paragraph is:  232\n"
     ]
    }
   ],
   "source": [
    "print('The amount of words in first_paragraph is: ', words)"
   ]
  },
  {
   "cell_type": "code",
   "execution_count": null,
   "metadata": {
    "collapsed": true
   },
   "outputs": [],
   "source": []
  }
 ],
 "metadata": {
  "anaconda-cloud": {},
  "kernelspec": {
   "display_name": "Python [default]",
   "language": "python",
   "name": "python3"
  },
  "language_info": {
   "codemirror_mode": {
    "name": "ipython",
    "version": 3
   },
   "file_extension": ".py",
   "mimetype": "text/x-python",
   "name": "python",
   "nbconvert_exporter": "python",
   "pygments_lexer": "ipython3",
   "version": "3.5.2"
  }
 },
 "nbformat": 4,
 "nbformat_minor": 2
}
